{
 "cells": [
  {
   "cell_type": "code",
   "execution_count": 17,
   "metadata": {},
   "outputs": [],
   "source": [
    "import matplotlib.pyplot as plt\n",
    "import os\n",
    "import pandas as pd\n",
    "import seaborn as sns"
   ]
  },
  {
   "cell_type": "code",
   "execution_count": 18,
   "metadata": {},
   "outputs": [],
   "source": [
    "def visualize_missing_values(df):\n",
    "    test_missing_values = []\n",
    "    for col in df.columns:\n",
    "        test_missing_values.append(df[col].isnull().sum())\n",
    "        print(col,\"has\",df[col].isnull().sum(),\"missing values\")\n",
    "    missing_values = pd.DataFrame(df.isnull().sum(), columns=['missing_values'])\n",
    "    missing_values = missing_values.sort_values(by='missing_values', ascending=False)\n",
    "    plt.figure(figsize=(10,10))\n",
    "    plt.barh(y=missing_values.index, width=missing_values['missing_values'])\n",
    "    plt.xlabel('Number of Missing Values')\n",
    "    plt.ylabel('Column Name')\n",
    "    plt.title('Missing Values in Each Column')\n",
    "    plt.show()"
   ]
  },
  {
   "cell_type": "code",
   "execution_count": 19,
   "metadata": {},
   "outputs": [],
   "source": [
    "def read_data(file_name):\n",
    "    curr_dir = os.getcwd()\n",
    "    data_dir = 'C:/Users/mahmo/Desktop/Titanic---Machine-Learning-from-Disaster/input/'\n",
    "    file_path = data_dir + file_name + '.csv'\n",
    "    file_df = pd.read_csv(os.path.join(curr_dir,file_path))\n",
    "    return file_df"
   ]
  }
 ],
 "metadata": {
  "kernelspec": {
   "display_name": "base",
   "language": "python",
   "name": "python3"
  },
  "language_info": {
   "codemirror_mode": {
    "name": "ipython",
    "version": 3
   },
   "file_extension": ".py",
   "mimetype": "text/x-python",
   "name": "python",
   "nbconvert_exporter": "python",
   "pygments_lexer": "ipython3",
   "version": "3.8.16"
  },
  "orig_nbformat": 4
 },
 "nbformat": 4,
 "nbformat_minor": 2
}
