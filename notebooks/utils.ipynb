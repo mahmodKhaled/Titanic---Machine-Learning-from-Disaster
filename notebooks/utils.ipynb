{
 "cells": [
  {
   "cell_type": "code",
   "execution_count": 9,
   "metadata": {},
   "outputs": [],
   "source": [
    "import matplotlib.pyplot as plt\n",
    "import os\n",
    "import pandas as pd\n",
    "import numpy as np\n",
    "from sklearn.impute import SimpleImputer\n",
    "from sklearn.preprocessing import StandardScaler"
   ]
  },
  {
   "cell_type": "code",
   "execution_count": 10,
   "metadata": {},
   "outputs": [],
   "source": [
    "def visualize_missing_values(df):\n",
    "    test_missing_values = []\n",
    "    for col in df.columns:\n",
    "        test_missing_values.append(df[col].isnull().sum())\n",
    "        print(col,\"has\",df[col].isnull().sum(),\"missing values\")\n",
    "    missing_values = pd.DataFrame(df.isnull().sum(), columns=['missing_values'])\n",
    "    missing_values = missing_values.sort_values(by='missing_values', ascending=False)\n",
    "    plt.figure(figsize=(10,10))\n",
    "    plt.barh(y=missing_values.index, width=missing_values['missing_values'])\n",
    "    plt.xlabel('Number of Missing Values')\n",
    "    plt.ylabel('Column Name')\n",
    "    plt.title('Missing Values in Each Column')\n",
    "    plt.show()"
   ]
  },
  {
   "cell_type": "code",
   "execution_count": 11,
   "metadata": {},
   "outputs": [],
   "source": [
    "def read_data(file_name):\n",
    "    curr_dir = os.getcwd()\n",
    "    data_dir = 'C:/Users/mahmo/Desktop/Titanic---Machine-Learning-from-Disaster/input/'\n",
    "    file_path = data_dir + file_name + '.csv'\n",
    "    file_df = pd.read_csv(os.path.join(curr_dir,file_path))\n",
    "    return file_df"
   ]
  },
  {
   "cell_type": "code",
   "execution_count": 12,
   "metadata": {},
   "outputs": [],
   "source": [
    "def preprocess_data(df, data_type):\n",
    "    # drop unnecessary columns\n",
    "    df = df.drop('Cabin',axis=1)\n",
    "    df = df.drop('Name',axis=1)\n",
    "    df = df.drop('Ticket',axis=1)\n",
    "    df = df.drop('PassengerId',axis=1)\n",
    "    # impute Age column and replace it with Age_Imputed\n",
    "    numerical_imputer = SimpleImputer(missing_values=np.nan,strategy='mean')\n",
    "    categorical_imputer = SimpleImputer(missing_values=np.nan,strategy='most_frequent')\n",
    "    Age_Imputed = pd.DataFrame(numerical_imputer.fit_transform(df[['Age']]),index=df[['Age']].index,columns=['Age_Imputed'])\n",
    "    df = pd.concat([df,Age_Imputed],axis=1)\n",
    "    df = df.drop('Age',axis=1)\n",
    "    if data_type == 'train':\n",
    "        ## impute Embarked column and replace it with Embarked_Imputed\n",
    "        Embarked_Imputed = pd.DataFrame(categorical_imputer.fit_transform(df[['Embarked']]),index=df[['Embarked']].index,columns=['Embarked_Imputed'])\n",
    "        df = pd.concat([df,Embarked_Imputed],axis=1)\n",
    "        df = df.drop('Embarked',axis=1)\n",
    "    elif data_type == 'test':\n",
    "        ## impute Fare column and replace it with Fare_Imputed\n",
    "        Fare_Imputed = pd.DataFrame(numerical_imputer.fit_transform(df[['Fare']]),index=df[['Fare']].index,columns=['Fare_Imputed'])\n",
    "        df = pd.concat([df,Fare_Imputed],axis=1)\n",
    "        df = df.drop('Fare',axis=1)\n",
    "    else:\n",
    "        raise ValueError('data_type should be either train or test')\n",
    "    # identify catgorical columns\n",
    "    categorical_mask = (df.dtypes == object)\n",
    "    categorical_columns = []\n",
    "    for col , mask in zip(df.columns,categorical_mask):\n",
    "        if mask == True:\n",
    "            categorical_columns.append(col)\n",
    "    ## convert categorical columns into numerical\n",
    "    df = pd.get_dummies(df)\n",
    "    scaler = StandardScaler()\n",
    "    if data_type == 'train':\n",
    "        fare_age_scaled = pd.DataFrame(scaler.fit_transform(df[['Fare','Age_Imputed']]),index=df.index,columns=['Fare','Age_Imputed'])\n",
    "        df = df.drop(['Age_Imputed','Fare'],axis=1)\n",
    "        df = pd.concat([df,fare_age_scaled],axis=1)\n",
    "    elif data_type == 'test':\n",
    "        fare_age_scaled = pd.DataFrame(scaler.fit_transform(df[['Fare_Imputed','Age_Imputed']]),index=df.index,columns=['Fare_Imputed','Age_Imputed'])\n",
    "        df = df.drop(['Age_Imputed','Fare_Imputed'],axis=1)\n",
    "        df = pd.concat([df,fare_age_scaled],axis=1)\n",
    "    else:\n",
    "        raise ValueError('data_type should be either train or test')\n",
    "    return df"
   ]
  }
 ],
 "metadata": {
  "kernelspec": {
   "display_name": "base",
   "language": "python",
   "name": "python3"
  },
  "language_info": {
   "codemirror_mode": {
    "name": "ipython",
    "version": 3
   },
   "file_extension": ".py",
   "mimetype": "text/x-python",
   "name": "python",
   "nbconvert_exporter": "python",
   "pygments_lexer": "ipython3",
   "version": "3.8.16"
  },
  "orig_nbformat": 4
 },
 "nbformat": 4,
 "nbformat_minor": 2
}
